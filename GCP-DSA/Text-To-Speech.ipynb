{
 "cells": [
  {
   "cell_type": "markdown",
   "metadata": {},
   "source": [
    "## Data Science Academy\n",
    "### Big Data, Data Science e Machine Learning com Google Cloud Platform\n",
    "### Text To Speech"
   ]
  },
  {
   "cell_type": "markdown",
   "metadata": {},
   "source": [
    "Neste exemplo, utilizaremos a 'API Text To Speech' para realizarmos sintetização de voz.\n",
    "\n",
    "Certifique-se que tenha instalado as bibliotecas abaixo conforme demonstrado no vídeo."
   ]
  },
  {
   "cell_type": "code",
   "execution_count": null,
   "metadata": {},
   "outputs": [],
   "source": [
    "from google.cloud import texttospeech\n",
    "import os"
   ]
  },
  {
   "cell_type": "code",
   "execution_count": null,
   "metadata": {},
   "outputs": [],
   "source": [
    "os.environ['GOOGLE_APPLICATION_CREDENTIALS'] = 'COLOQUE_O_PATH_DO_ARQUIVO_JSON_DA_CONTA_DE_SERVICO'"
   ]
  },
  {
   "cell_type": "code",
   "execution_count": null,
   "metadata": {},
   "outputs": [],
   "source": [
    "# Instanciar um client\n",
    "client = texttospeech.TextToSpeechClient()\n",
    "\n",
    "# Texto que será sintetizado\n",
    "synthesis_input = texttospeech.types.SynthesisInput(text=\"Olá tudo bem? Esperamos que esteja gostando do curso!\")\n",
    "\n",
    "# Configurações da voz\n",
    "voice = texttospeech.types.VoiceSelectionParams(\n",
    "    language_code='pt-BR',\n",
    "    ssml_gender=texttospeech.enums.SsmlVoiceGender.NEUTRAL)\n",
    "\n",
    "# Tipo de áudio que será retornado\n",
    "audio_config = texttospeech.types.AudioConfig(audio_encoding=texttospeech.enums.AudioEncoding.MP3)\n",
    "\n",
    "# Disparo da requisição e obtenção da resposta em formato Base64\n",
    "response = client.synthesize_speech(synthesis_input, voice, audio_config)\n",
    "\n",
    "# Decodificação do conteúdo Base64 obtido na resposta da requisição e escrita em um arquivo mp3\n",
    "with open('output.mp3', 'wb') as out:\n",
    "    # Write the response to the output file.\n",
    "    out.write(response.audio_content)\n",
    "    print('Audio content written to file \"output.mp3\"')"
   ]
  }
 ],
 "metadata": {
  "kernelspec": {
   "display_name": "Python 3",
   "language": "python",
   "name": "python3"
  },
  "language_info": {
   "codemirror_mode": {
    "name": "ipython",
    "version": 3
   },
   "file_extension": ".py",
   "mimetype": "text/x-python",
   "name": "python",
   "nbconvert_exporter": "python",
   "pygments_lexer": "ipython3",
   "version": "3.6.4"
  }
 },
 "nbformat": 4,
 "nbformat_minor": 2
}
